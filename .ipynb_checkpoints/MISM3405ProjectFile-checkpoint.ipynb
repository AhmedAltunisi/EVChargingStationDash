{
 "cells": [
  {
   "cell_type": "code",
   "execution_count": null,
   "id": "737c26ae",
   "metadata": {},
   "outputs": [],
   "source": [
    "#Imports\n",
    "import seaborn as sns\n",
    "import pandas as pd\n",
    "import matplotlib.pyplot as plt\n",
    "import geopandas as gpd\n",
    "import requests\n",
    "from bs4 import BeautifulSoup\n",
    "import re"
   ]
  },
  {
   "cell_type": "code",
   "execution_count": null,
   "id": "c6341af7",
   "metadata": {},
   "outputs": [],
   "source": []
  },
  {
   "cell_type": "code",
   "execution_count": null,
   "id": "bebdd116",
   "metadata": {},
   "outputs": [],
   "source": []
  },
  {
   "cell_type": "markdown",
   "id": "173e91fa",
   "metadata": {},
   "source": [
    "## US EV Charging Station Locations"
   ]
  },
  {
   "cell_type": "markdown",
   "id": "3127c555",
   "metadata": {},
   "source": [
    "Here, we're importing a dataset from the Alternative Fuels Data Center. This data was downloaded and imported on March 26th, and that is the file attached to the project. "
   ]
  },
  {
   "cell_type": "code",
   "execution_count": null,
   "id": "a99ddd42",
   "metadata": {},
   "outputs": [],
   "source": [
    "#Electric Vehicle Charging Station Locations dataset from data.gov\n",
    "#Downloaded on March 26, 2023\n",
    "ev_chargers = pd.read_csv('alt_fuel_stations (Mar 26 2023).csv')"
   ]
  },
  {
   "cell_type": "code",
   "execution_count": null,
   "id": "3b3df577",
   "metadata": {},
   "outputs": [],
   "source": [
    "#Number of rows and columns in df\n",
    "ev_chargers.shape"
   ]
  },
  {
   "cell_type": "code",
   "execution_count": null,
   "id": "ddd243e3",
   "metadata": {},
   "outputs": [],
   "source": [
    "ev_chargers.info()"
   ]
  },
  {
   "cell_type": "code",
   "execution_count": null,
   "id": "3bba6596",
   "metadata": {},
   "outputs": [],
   "source": [
    "ev_chargers.head()"
   ]
  },
  {
   "cell_type": "code",
   "execution_count": null,
   "id": "c30c1bd9",
   "metadata": {},
   "outputs": [],
   "source": [
    "#We're only interested in these columns\n",
    "ev_chargers = ev_chargers[[\n",
    "    'City', 'State', 'Latitude', 'Longitude'\n",
    "]]"
   ]
  },
  {
   "cell_type": "markdown",
   "id": "b2f2d7cf",
   "metadata": {},
   "source": [
    "Below, we're using the state value counts (the amount of times the state's name appears in the column) as the count of all the chargers in each state."
   ]
  },
  {
   "cell_type": "code",
   "execution_count": null,
   "id": "0d2c9af1",
   "metadata": {},
   "outputs": [],
   "source": [
    "#Amount of charging stations in each state\n",
    "state_counts = ev_chargers['State'].value_counts()\n",
    "state_counts"
   ]
  },
  {
   "cell_type": "code",
   "execution_count": null,
   "id": "160de74e",
   "metadata": {},
   "outputs": [],
   "source": [
    "# create a figure and axis object\n",
    "fig, ax = plt.subplots()\n",
    "\n",
    "# create a bar chart of the state counts\n",
    "ax.bar(state_counts.index, state_counts.values, edgecolor='black')\n",
    "\n",
    "# set the title and axis labels\n",
    "ax.set_title('Number of Electric Vehicle Charging Stations by State')\n",
    "ax.set_xlabel('State')\n",
    "ax.set_ylabel('Number of Charging Stations')\n",
    "\n",
    "# rotate the x-axis tick labels for better readability\n",
    "plt.xticks(rotation=90, fontsize = 7, fontweight='bold')\n",
    "\n",
    "# display the chart\n",
    "plt.show()"
   ]
  },
  {
   "cell_type": "markdown",
   "id": "f0409910",
   "metadata": {},
   "source": [
    "The chart above displays the Number of EV Charging Stations by State. California is a massive outlier in the number of EV Chargers they have, but this can be explained by them having the highest amount of vehicles in their state, as seen in the next section. When we remove California from the graph:"
   ]
  },
  {
   "cell_type": "code",
   "execution_count": null,
   "id": "a801828d",
   "metadata": {},
   "outputs": [],
   "source": [
    "# sort the state_counts in descending order\n",
    "state_counts_sorted = state_counts.sort_values(ascending=False)\n",
    "\n",
    "# remove the first item (California)\n",
    "state_counts_no_cal = state_counts_sorted.iloc[1:]\n",
    "\n",
    "# create a figure and axis object\n",
    "fig3, ax3 = plt.subplots()\n",
    "\n",
    "# create a bar chart of the truncated state counts\n",
    "ax3.bar(x = state_counts_no_cal.index, height = state_counts_no_cal.values, edgecolor='black')\n",
    "\n",
    "# set the title and axis labels\n",
    "ax3.set_title('Number of Electric Vehicle Charging Stations by State (California Excluded)')\n",
    "ax3.set_xlabel('State')\n",
    "ax3.set_ylabel('Number of Charging Stations')\n",
    "\n",
    "# rotate the x-axis tick labels for better readability\n",
    "plt.xticks(rotation=90, fontsize=7, fontweight='bold')\n",
    "\n",
    "# display the chart\n",
    "plt.show()"
   ]
  },
  {
   "cell_type": "markdown",
   "id": "dea9713d",
   "metadata": {},
   "source": [
    "We can see that the top 5 states have reasons to be up there : New York and Massachusetts are fairly liberal states with major cities in each state, which lines up with an emphasis on building infrastructure for electric vehicles, as these are typically built in an effort to discourage fossil fuel vehicle use, normally a liberal motive. Texas and Florida, while typically conservative, have the most automobiles outside of California, so building infrastructure that catered to EVs was bound to happen in these areas, where there are more EVs driving around. "
   ]
  },
  {
   "cell_type": "markdown",
   "id": "12e263c4",
   "metadata": {},
   "source": [
    "# State Vehicle Counts Scraping"
   ]
  },
  {
   "cell_type": "markdown",
   "id": "19fb4aca",
   "metadata": {},
   "source": [
    "Here, we scraped the US Department of Transportation's website for the number of vehicles in each state, though we were only concerned with the Total Number of Automobiles in each state, which was the sum of all Private/Commercial automobiles and all Public automobiles in the state. We chose to only include the Automobile columns as those were the only relevant ones, as we're primarily looking for personal / private automobiles rather than Trucks, Motorcycles, or Commercial Vehicles. This was scraped using the BeautifulSoup package's html parser"
   ]
  },
  {
   "cell_type": "code",
   "execution_count": null,
   "id": "d006b214",
   "metadata": {},
   "outputs": [],
   "source": [
    "# Send an HTTP request to the URL\n",
    "url = \"https://www.fhwa.dot.gov/policyinformation/statistics/2021/mv1.cfm\"\n",
    "response = requests.get(url)\n",
    "\n",
    "# Parse the HTML content using BeautifulSoup\n",
    "soup = BeautifulSoup(response.content, 'html.parser')\n",
    "\n",
    "# Find the table element on the webpage and extract the table rows\n",
    "table = soup.find_all('table')[0]\n",
    "rows = table.find_all('tr')\n",
    "\n",
    "# Create an empty list to store the table data\n",
    "data = []\n",
    "\n",
    "# Loop through each row in the table and extract the text from the cells\n",
    "for row in rows:\n",
    "    cells = row.find_all('td')\n",
    "    if cells:\n",
    "        row_data = []\n",
    "        for cell in cells:\n",
    "            row_data.append(cell.get_text().strip())\n",
    "        data.append(row_data)\n",
    "\n",
    "# Convert the list of data to a pandas dataframe\n",
    "vehicle_count_df = pd.DataFrame(data)\n",
    "\n",
    "vehicle_count_df.columns = ['Private and Commercial', 'Publicly Owned', \"Total Automobiles\", \"PRIVATE AND COMMERCIAL\",\n",
    "              \"PUBLICLY OWNED 2\",\"TOTAL\",\"PRIVATE AND COMMERCIAL 2\", \"PUBLICLY OWNED 3\", \"TOTAL 3\",\n",
    "              \"PRIVATE AND COMMERCIAL 3\", \"PUBLICLY OWNED 3\", \"TOTAL 4\", \"PRIVATE AND COMMERCIAL 4\",\n",
    "              \"PUBLICLY OWNED 5\", \"TOTAL 5\"]\n",
    "# Print the dataframe\n",
    "print(vehicle_count_df.head())\n"
   ]
  },
  {
   "cell_type": "code",
   "execution_count": null,
   "id": "35892c98",
   "metadata": {},
   "outputs": [],
   "source": [
    "#Dropping last row in the dataset (unnecessary Bottom Row that caused issues)\n",
    "vehicle_count_df.drop(vehicle_count_df.index[-1], inplace=True)\n",
    "vehicle_count_df.tail()"
   ]
  },
  {
   "cell_type": "code",
   "execution_count": null,
   "id": "b8877263",
   "metadata": {},
   "outputs": [],
   "source": [
    "# Add state names to the dataframe\n",
    "state_names = [row.find_all('th')[0].get_text().strip() for row in table.find_all('tr')[1:]]\n",
    "\n",
    "#Popping last two values\n",
    "state_names.pop(0)\n",
    "state_names.pop(-1)\n",
    "\n",
    "vehicle_count_df['State'] = state_names"
   ]
  },
  {
   "cell_type": "code",
   "execution_count": null,
   "id": "48359ef4",
   "metadata": {},
   "outputs": [],
   "source": [
    "vehicle_count_df.head()"
   ]
  },
  {
   "cell_type": "code",
   "execution_count": null,
   "id": "be0b6cb8",
   "metadata": {},
   "outputs": [],
   "source": [
    "#Taking only the state names and Total Number of Automobiles \n",
    "vehicle_count_df = vehicle_count_df[['Total Automobiles', 'State']]"
   ]
  },
  {
   "cell_type": "code",
   "execution_count": null,
   "id": "ec008f5a",
   "metadata": {},
   "outputs": [],
   "source": [
    "vehicle_count_df.head()"
   ]
  },
  {
   "cell_type": "code",
   "execution_count": null,
   "id": "ba9bd9c0",
   "metadata": {},
   "outputs": [],
   "source": [
    "#Taking out the commas from the Total Automobiles Column\n",
    "vehicle_count_df['Total Automobiles'] = vehicle_count_df['Total Automobiles'].str.replace(',', '').astype(int)\n",
    "\n",
    "# remove numbers and parentheses from state names\n",
    "vehicle_count_df['State'] = vehicle_count_df['State'].str.replace(r'\\d+|\\(|\\)', '')"
   ]
  },
  {
   "cell_type": "code",
   "execution_count": null,
   "id": "4fb6c182",
   "metadata": {},
   "outputs": [],
   "source": [
    "# replace the DC name in df1 with the same name as in df2\n",
    "vehicle_count_df.loc[vehicle_count_df['State'] == 'Dist. of Col.', 'State'] = 'District of Columbia'"
   ]
  },
  {
   "cell_type": "code",
   "execution_count": null,
   "id": "0dcc29bd",
   "metadata": {},
   "outputs": [],
   "source": [
    "# create a figure and axis object\n",
    "fig2, ax2 = plt.subplots()\n",
    "\n",
    "# sort the DataFrame by the 'Total Automobiles' column\n",
    "vehicle_count_sorted = vehicle_count_df.sort_values('Total Automobiles', ascending=False)\n",
    "\n",
    "# create a bar chart of the state counts\n",
    "ax2.bar(x = vehicle_count_sorted['State'], height = vehicle_count_sorted['Total Automobiles'], edgecolor='black')\n",
    "\n",
    "# set the title and axis labels\n",
    "plt.title('Number of Automobiles by State')\n",
    "plt.xlabel('State')\n",
    "plt.ylabel('Automobiles (count in tens of millions)')\n",
    "\n",
    "# rotate the x-axis tick labels for better readability\n",
    "plt.xticks(rotation=90, fontsize = 6, fontweight='bold')\n",
    "\n",
    "# display the chart\n",
    "plt.show()\n",
    "\n",
    "\n",
    "\n"
   ]
  },
  {
   "cell_type": "markdown",
   "id": "61ad9edb",
   "metadata": {},
   "source": [
    "As we can see in the chart above, California trumps every state in the total number of automobiles in the state, almost doubling the next two states, Florida and Texas, in numbers at 14 million, 7.85 million, and 7.78 million, respectively."
   ]
  },
  {
   "cell_type": "code",
   "execution_count": null,
   "id": "59c58d85",
   "metadata": {},
   "outputs": [],
   "source": [
    "# create a figure and axis object\n",
    "fig4, ax4 = plt.subplots()\n",
    "\n",
    "# sort the DataFrame by the 'Total Automobiles' column\n",
    "vehicle_count_sorted = vehicle_count_df.sort_values('Total Automobiles', ascending=False)\n",
    "\n",
    "# remove the first item (California)\n",
    "vehicle_count_no_cal = vehicle_count_sorted.iloc[1:]\n",
    "\n",
    "# create a bar chart of the state counts\n",
    "ax4.bar(x = vehicle_count_no_cal['State'], height = vehicle_count_no_cal['Total Automobiles'], align='center' , edgecolor='black')\n",
    "\n",
    "# set the title and axis labels\n",
    "plt.title('Number of Automobiles by State (California Excluded)')\n",
    "plt.xlabel('State')\n",
    "plt.ylabel('Automobiles (count in tens of millions)')\n",
    "\n",
    "# rotate the x-axis tick labels for better readability\n",
    "plt.xticks(rotation=90, fontsize = 6, fontweight='bold')\n",
    "\n",
    "# display the chart\n",
    "plt.show()\n",
    "\n"
   ]
  },
  {
   "cell_type": "code",
   "execution_count": null,
   "id": "7b771369",
   "metadata": {},
   "outputs": [],
   "source": [
    "vehicle_count_df = vehicle_count_df.set_index('State')"
   ]
  },
  {
   "cell_type": "markdown",
   "id": "c88508f1",
   "metadata": {},
   "source": [
    "# State EV Counts"
   ]
  },
  {
   "cell_type": "markdown",
   "id": "7a6f7739",
   "metadata": {},
   "source": [
    "Importing the number of registered Electric Vehicles per State, from an Excel file downloaded from https://afdc.energy.gov/data"
   ]
  },
  {
   "cell_type": "code",
   "execution_count": null,
   "id": "10403c34",
   "metadata": {},
   "outputs": [],
   "source": [
    "#Reading in excel file of EV Registrations by State\n",
    "state_ev_counts = pd.read_excel(r'10962-ev-registration-counts-by-state_6-30-22 (1).xlsx')"
   ]
  },
  {
   "cell_type": "code",
   "execution_count": null,
   "id": "ca5f0cc2",
   "metadata": {},
   "outputs": [],
   "source": [
    "state_ev_counts.head()"
   ]
  },
  {
   "cell_type": "code",
   "execution_count": null,
   "id": "6c981592",
   "metadata": {},
   "outputs": [],
   "source": [
    "state_ev_counts.tail()"
   ]
  },
  {
   "cell_type": "code",
   "execution_count": null,
   "id": "183e6b11",
   "metadata": {},
   "outputs": [],
   "source": [
    "#Dropping columns that got added to the mix\n",
    "state_ev_counts.drop('Unnamed: 0', axis=1, inplace=True)\n",
    "state_ev_counts.drop('Unnamed: 3', axis=1, inplace=True)\n",
    "state_ev_counts.drop('Unnamed: 4', axis=1, inplace=True)\n",
    "\n",
    "#Dropping First 2 rows and Last row as they were improperly imported\n",
    "state_ev_counts.drop(state_ev_counts.tail(1).index,inplace=True)\n",
    "state_ev_counts.drop(state_ev_counts.head(2).index,inplace=True)"
   ]
  },
  {
   "cell_type": "code",
   "execution_count": null,
   "id": "3bfcef07",
   "metadata": {},
   "outputs": [],
   "source": [
    "print(state_ev_counts.head())\n",
    "\n",
    "print(state_ev_counts.tail())"
   ]
  },
  {
   "cell_type": "code",
   "execution_count": null,
   "id": "ede49a76",
   "metadata": {},
   "outputs": [],
   "source": [
    "state_ev_counts.info()"
   ]
  },
  {
   "cell_type": "code",
   "execution_count": null,
   "id": "f4a30d38",
   "metadata": {},
   "outputs": [],
   "source": [
    "#Resetting df index and renaming columns\n",
    "state_ev_counts.reset_index(drop=True, inplace=True)\n",
    "state_ev_counts.rename(columns={'Unnamed: 1': 'State', 'Unnamed: 2': 'Total EVs'}, inplace=True)\n",
    "state_ev_counts = state_ev_counts.set_index('State')\n",
    "\n",
    "state_ev_counts"
   ]
  },
  {
   "cell_type": "code",
   "execution_count": null,
   "id": "0e0dd7bb",
   "metadata": {},
   "outputs": [],
   "source": [
    "vehicle_count_df"
   ]
  },
  {
   "cell_type": "code",
   "execution_count": null,
   "id": "023eabce",
   "metadata": {},
   "outputs": [],
   "source": [
    "# create a figure and axis object\n",
    "fig, ax = plt.subplots()\n",
    "\n",
    "# create a bar chart of the state counts\n",
    "state_ev_counts_sorted = state_ev_counts.sort_values('Total EVs', ascending=False)\n",
    "ax.bar(x = state_ev_counts_sorted.index, height = state_ev_counts_sorted['Total EVs'], edgecolor='black')\n",
    "\n",
    "# set the title and axis labels\n",
    "plt.title('Number of Electric Vehicles by State')\n",
    "plt.xlabel('State')\n",
    "plt.ylabel('Registered Electric Vehicles')\n",
    "\n",
    "# rotate the x-axis tick labels for better readability\n",
    "plt.xticks(rotation=90, fontsize = 6, fontweight='bold')\n",
    "\n",
    "# display the chart\n",
    "plt.show()"
   ]
  },
  {
   "cell_type": "code",
   "execution_count": null,
   "id": "ac2e534a",
   "metadata": {},
   "outputs": [],
   "source": [
    "# create a figure and axis object\n",
    "fig, ax = plt.subplots()\n",
    "\n",
    "# create a bar chart of the state counts\n",
    "state_ev_counts_sorted = state_ev_counts.sort_values('Total EVs', ascending=False)\n",
    "\n",
    "# remove the first item (California)\n",
    "state_ev_count_no_cal = state_ev_counts_sorted.iloc[1:]\n",
    "\n",
    "ax.bar(x = state_ev_count_no_cal.index, height = state_ev_count_no_cal['Total EVs'], edgecolor='black')\n",
    "\n",
    "\n",
    "\n",
    "# set the title and axis labels\n",
    "plt.title('Number of Electric Vehicles by State (California Excluded)')\n",
    "plt.xlabel('State')\n",
    "plt.ylabel('Registered Electric Vehicles')\n",
    "\n",
    "# rotate the x-axis tick labels for better readability\n",
    "plt.xticks(rotation=90, fontsize = 6, fontweight='bold')\n",
    "\n",
    "# display the chart\n",
    "plt.show()"
   ]
  },
  {
   "cell_type": "markdown",
   "id": "f4a89ead",
   "metadata": {},
   "source": [
    "# State Population Data Scraping"
   ]
  },
  {
   "cell_type": "markdown",
   "id": "57a6f682",
   "metadata": {},
   "source": [
    "Here we scraped Wikipedia for data regarding the population densities of each state. Once again, we used the requests library along with BeautifulSoup to complete this task. We also performed some cleaning of the data after importing it. "
   ]
  },
  {
   "cell_type": "code",
   "execution_count": null,
   "id": "74e71904",
   "metadata": {},
   "outputs": [],
   "source": [
    "#Getting the population densities of each state \n",
    "pop_url = 'https://en.wikipedia.org/wiki/List_of_states_and_territories_of_the_United_States_by_population_density'\n",
    "pop_req = requests.get(pop_url)\n",
    "\n",
    "#Parse HTML content with BeautifulSoup library\n",
    "pop_soup = BeautifulSoup(pop_req.content, 'html.parser')\n",
    "\n",
    "#Find the table element\n",
    "pop_table = pop_soup.find_all('table')[0]\n",
    "pop_rows = pop_table.find_all('tr')\n",
    "\n",
    "#Empty list to store table data\n",
    "tab_data = []\n",
    "\n",
    "# Loop through each row in the table and extract the text from the cells\n",
    "for row in pop_rows:\n",
    "    cells = row.find_all('td')\n",
    "    if cells:\n",
    "        row_data = []\n",
    "        for cell in cells:\n",
    "            row_data.append(cell.get_text().strip())\n",
    "        tab_data.append(row_data)\n",
    "\n",
    "#Add population densities to the dataframe\n",
    "states = [row.find_all('th')[0].get_text().strip() for row in pop_table.find_all('tr')[1:]]\n",
    "\n",
    "states.pop(0)\n",
    "states.pop(-1)\n",
    "\n",
    "pop_df = pd.DataFrame(tab_data)\n",
    "pop_df.drop(pop_df.tail(1).index,inplace=True) # drop last row\n",
    "\n",
    "pop_df['State'] = states\n",
    "pop_df.rename(columns={2:'Population Density (sq. mi)'}, inplace=True)\n",
    "\n",
    "pop_df = pop_df[['State', 'Population Density (sq. mi)']]\n",
    "\n",
    "pop_df = pop_df.set_index('State')\n",
    "\n",
    "pop_df['Population Density (sq. mi)'] = pop_df['Population Density (sq. mi)'].astype(float)"
   ]
  },
  {
   "cell_type": "code",
   "execution_count": null,
   "id": "a1683a7b",
   "metadata": {},
   "outputs": [],
   "source": [
    "pop_df.head()"
   ]
  },
  {
   "cell_type": "markdown",
   "id": "49274e98",
   "metadata": {},
   "source": [
    "# Merging Datasets "
   ]
  },
  {
   "cell_type": "code",
   "execution_count": null,
   "id": "2949c5c1",
   "metadata": {},
   "outputs": [],
   "source": [
    "# Remove numbers and parentheses from State column in dataframe 1\n",
    "vehicle_count_df.index = vehicle_count_df.index.str.replace('\\(\\d+\\)', '').str.strip()\n",
    "\n",
    "# merge the dataframes\n",
    "merged_df = vehicle_count_df.merge(state_ev_counts, on='State')\n",
    "\n",
    "merged_df = pd.merge(merged_df, pop_df, on='State')\n",
    "\n",
    "merged_df.head()"
   ]
  },
  {
   "cell_type": "code",
   "execution_count": null,
   "id": "ef843c3a",
   "metadata": {},
   "outputs": [],
   "source": [
    "merged_df['EV Adoption Rate'] = (merged_df['Total EVs'] / merged_df['Total Automobiles'])\n",
    "merged_df['EV Adoption Rate'] = merged_df['EV Adoption Rate'].astype(float)"
   ]
  },
  {
   "cell_type": "code",
   "execution_count": null,
   "id": "434a6e66",
   "metadata": {},
   "outputs": [],
   "source": [
    "merged_df.info()"
   ]
  },
  {
   "cell_type": "code",
   "execution_count": null,
   "id": "2b286a55",
   "metadata": {},
   "outputs": [],
   "source": [
    "#Converting Total EVs from Object to Int type\n",
    "merged_df['Total EVs'] = merged_df['Total EVs'].astype(int)"
   ]
  },
  {
   "cell_type": "code",
   "execution_count": null,
   "id": "ab3336f1",
   "metadata": {
    "scrolled": true
   },
   "outputs": [],
   "source": [
    "merged_df"
   ]
  },
  {
   "cell_type": "code",
   "execution_count": null,
   "id": "7ead7ca8",
   "metadata": {},
   "outputs": [],
   "source": [
    "#Adding in the state_counts (charging stations in each state) Series to the merged_df dataframe\n",
    "\n",
    "# create a dictionary to map state abbreviations to full state names\n",
    "state_abbr_to_name = {'AL': 'Alabama', 'AK': 'Alaska', 'AZ': 'Arizona',\n",
    "                      'AR': 'Arkansas', 'CA': 'California',\n",
    "                      'CO': 'Colorado', 'CT': 'Connecticut',\n",
    "                      'DE': 'Delaware', 'DC': 'District of Columbia',\n",
    "                      'FL': 'Florida', 'GA': 'Georgia', 'HI': 'Hawaii',\n",
    "                      'ID': 'Idaho', 'IL': 'Illinois', 'IN': 'Indiana',\n",
    "                      'IA': 'Iowa', 'KS': 'Kansas', 'KY': 'Kentucky',\n",
    "                      'LA': 'Louisiana', 'ME': 'Maine', 'MD': 'Maryland',\n",
    "                      'MA': 'Massachusetts', 'MI': 'Michigan',\n",
    "                      'MN': 'Minnesota', 'MS': 'Mississippi',\n",
    "                      'MO': 'Missouri', 'MT': 'Montana', 'NE': 'Nebraska',\n",
    "                      'NV': 'Nevada', 'NH': 'New Hampshire', 'NJ': 'New Jersey',\n",
    "                      'NM': 'New Mexico', 'NY': 'New York', 'NC': 'North Carolina',\n",
    "                      'ND': 'North Dakota', 'OH': 'Ohio', 'OK': 'Oklahoma',\n",
    "                      'OR': 'Oregon', 'PA': 'Pennsylvania', 'RI': 'Rhode Island',\n",
    "                      'SC': 'South Carolina', 'SD': 'South Dakota',\n",
    "                      'TN': 'Tennessee', 'TX': 'Texas', 'UT': 'Utah', 'VT': 'Vermont',\n",
    "                      'VA': 'Virginia', 'WA': 'Washington', 'WV': 'West Virginia',\n",
    "                      'WI': 'Wisconsin', 'WY': 'Wyoming'}\n",
    "\n",
    "# convert the state abbreviations in state_counts to full state names\n",
    "state_counts.index = state_counts.index.map(state_abbr_to_name)\n",
    "state_counts.dropna(inplace=True)\n",
    "\n",
    "# merge the two dataframes based on the 'State' column in merged_df and the index of state_counts\n",
    "merged_df = merged_df.merge(state_counts, left_on='State', right_index=True)"
   ]
  },
  {
   "cell_type": "code",
   "execution_count": null,
   "id": "6c2d3ab3",
   "metadata": {
    "scrolled": true
   },
   "outputs": [],
   "source": [
    "#Renaming 2nd \"state\" column to Total EV Charging Stations after mistaken importing\n",
    "merged_df.rename(columns={'State': \"Total EV Charging Stations\"}, inplace=True)\n",
    "merged_df"
   ]
  },
  {
   "cell_type": "code",
   "execution_count": null,
   "id": "28b51474",
   "metadata": {},
   "outputs": [],
   "source": [
    "sns.lmplot(x='EV Adoption Rate',y='Total EV Charging Stations',data=merged_df,fit_reg=True)\n",
    "\n",
    "# Add labels to each point\n",
    "for i in range(len(merged_df)):\n",
    "    plt.annotate(merged_df.index[i], \n",
    "                 xy=(merged_df.iloc[i]['EV Adoption Rate'], merged_df.iloc[i]['Total EV Charging Stations']),\n",
    "                 xytext=(5,0), \n",
    "                 textcoords='offset points', \n",
    "                 fontsize=4)"
   ]
  },
  {
   "cell_type": "code",
   "execution_count": null,
   "id": "25992fdb",
   "metadata": {},
   "outputs": [],
   "source": [
    "# Load the state boundaries as a GeoDataFrame\n",
    "states = gpd.read_file('cb_2018_us_state_20m.shp')\n",
    "\n",
    "states.set_index('NAME')\n",
    "\n",
    "# Merge the state boundaries GeoDataFrame with the EV adoption rate DataFrame\n",
    "plot_df = states.merge(merged_df, left_on='NAME', right_on='State')"
   ]
  },
  {
   "cell_type": "code",
   "execution_count": null,
   "id": "22190f78",
   "metadata": {},
   "outputs": [],
   "source": [
    "plot_df.set_index('NAME')"
   ]
  },
  {
   "cell_type": "code",
   "execution_count": null,
   "id": "6e525ad5",
   "metadata": {},
   "outputs": [],
   "source": [
    "plot_df.info()"
   ]
  },
  {
   "cell_type": "code",
   "execution_count": null,
   "id": "716e2124",
   "metadata": {
    "scrolled": true
   },
   "outputs": [],
   "source": [
    "# Create a dictionary to map EV Adoption Rates to colors\n",
    "cmap = plt.cm.get_cmap('coolwarm')\n",
    "ev_rates = plot_df['EV Adoption Rate']\n",
    "\n",
    "#Setting color limits \n",
    "vmin, vmax = 0, merged_df['EV Adoption Rate'].max()\n",
    "colors = ev_rates.apply(lambda x: cmap((x - vmin) / (vmax - vmin)))\n",
    "\n",
    "# Create a new dataframe with the colors column\n",
    "plot_df_with_colors = plot_df.assign(colors=colors)\n",
    "plot_df_with_colors['EV Adoption Rate'] = ev_rates.apply(lambda x: f\"{x:.2f}%\")\n",
    "\n",
    "# Plot the states with different shades based on EV Adoption Rates\n",
    "im = plot_df_with_colors.plot(column='colors', edgecolor='black', linewidth = 0.5, cmap=cmap)\n",
    "\n",
    "# Annotate each state with its EV Adoption Rate\n",
    "for idx, row in plot_df_with_colors.iterrows():\n",
    "    plt.annotate(text=row['EV Adoption Rate'], xy=row['geometry'].centroid.coords[0],\n",
    "                 ha='center', fontsize=6, fontweight='bold')\n",
    "\n",
    "# Set the title\n",
    "ax = plt.gca()\n",
    "ax.set_title('EV Adoption Rates by State')\n",
    "\n",
    "# Remove the x and y axis ticks and labels\n",
    "ax.set_xticks([])\n",
    "ax.set_yticks([])\n",
    "ax.set_xticklabels([])\n",
    "ax.set_yticklabels([])\n",
    "\n",
    "# Create the colorbar\n",
    "sm = plt.cm.ScalarMappable(cmap=cmap, norm=plt.Normalize(vmin=vmin, vmax=vmax))\n",
    "sm.set_array([])\n",
    "cbar = plt.colorbar(sm, orientation='horizontal', ticks = [vmin, vmax], fraction=0.02, pad=0.04)\n",
    "cbar.ax.set_xticklabels(['{}%'.format(int(vmin)), '{}%'.format(round(vmax, 2))])\n",
    "cbar.ax.tick_params(labelsize=10)\n",
    "\n",
    "# Set the x and y limits to zoom in on the contiguous United States\n",
    "ax.set_xlim([-130, -65])\n",
    "ax.set_ylim([24, 50])\n",
    "\n",
    "# Show the plot\n",
    "plt.show()\n"
   ]
  },
  {
   "cell_type": "code",
   "execution_count": null,
   "id": "1c401690",
   "metadata": {},
   "outputs": [],
   "source": [
    "#Correlation matrix of merged_df variables\n",
    "corr_matrix = merged_df.corr()\n",
    "\n",
    "corr_matrix"
   ]
  },
  {
   "cell_type": "code",
   "execution_count": null,
   "id": "3e0e77b4",
   "metadata": {},
   "outputs": [],
   "source": [
    "# Visualize the correlation matrix as a heatmap\n",
    "sns.heatmap(corr_matrix, annot=True, cmap=\"coolwarm\")\n",
    "plt.title('Dataframe Correlation Matrix')"
   ]
  }
 ],
 "metadata": {
  "kernelspec": {
   "display_name": "Python 3 (ipykernel)",
   "language": "python",
   "name": "python3"
  },
  "language_info": {
   "codemirror_mode": {
    "name": "ipython",
    "version": 3
   },
   "file_extension": ".py",
   "mimetype": "text/x-python",
   "name": "python",
   "nbconvert_exporter": "python",
   "pygments_lexer": "ipython3",
   "version": "3.9.12"
  }
 },
 "nbformat": 4,
 "nbformat_minor": 5
}
